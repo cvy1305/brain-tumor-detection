{
  "nbformat": 4,
  "nbformat_minor": 0,
  "metadata": {
    "colab": {
      "provenance": []
    },
    "kernelspec": {
      "name": "python3",
      "display_name": "Python 3"
    },
    "language_info": {
      "name": "python"
    }
  },
  "cells": [
    {
      "cell_type": "code",
      "execution_count": null,
      "metadata": {
        "id": "e4KjI8pCGMLT"
      },
      "outputs": [],
      "source": [
        "import zipfile\n",
        "\n",
        "zip_path = \"/content/braintumordataset.zip\"\n",
        "\n",
        "# Unzip the file to a folder\n",
        "with zipfile.ZipFile(zip_path, 'r') as zip_ref:\n",
        "    zip_ref.extractall(\"/content/brain_tumor_data\")\n",
        "\n",
        "\n"
      ]
    },
    {
      "cell_type": "code",
      "source": [
        "import os\n",
        "import cv2\n",
        "import numpy as np\n",
        "from sklearn.model_selection import train_test_split\n",
        "import matplotlib.pyplot as plt\n",
        "\n",
        "# Path to the dataset\n",
        "data_dir = \"/content/brain_tumor_data\"\n",
        "categories = [\"yes\", \"no\"]\n",
        "\n",
        "data = []\n",
        "img_size = 100  # all images will be resized to 100x100 pixels\n",
        "\n",
        "# Load images\n",
        "for category in categories:\n",
        "    path = os.path.join(data_dir, category)\n",
        "    class_label = 1 if category == \"yes\" else 0\n",
        "    for img in os.listdir(path):\n",
        "        try:\n",
        "            img_path = os.path.join(path, img)\n",
        "            img_arr = cv2.imread(img_path, cv2.IMREAD_GRAYSCALE)  # read as grayscale\n",
        "            resized_arr = cv2.resize(img_arr, (img_size, img_size))  # resize\n",
        "            data.append([resized_arr, class_label])\n",
        "        except Exception as e:\n",
        "            pass\n",
        "\n",
        "# Shuffle and split data\n",
        "np.random.shuffle(data)\n",
        "\n",
        "X = []\n",
        "y = []\n",
        "\n",
        "for features, label in data:\n",
        "    X.append(features)\n",
        "    y.append(label)\n",
        "\n",
        "X = np.array(X).reshape(-1, img_size, img_size, 1) / 255.0  # Normalize\n",
        "y = np.array(y)\n",
        "\n",
        "# Split into training and testing sets\n",
        "X_train, X_test, y_train, y_test = train_test_split(X, y, test_size=0.2, random_state=42)\n",
        "\n"
      ],
      "metadata": {
        "id": "NBKujCBEHwJ-"
      },
      "execution_count": null,
      "outputs": []
    },
    {
      "cell_type": "code",
      "source": [
        "import tensorflow as tf\n",
        "from tensorflow.keras.models import Sequential\n",
        "from tensorflow.keras.layers import Conv2D, MaxPooling2D, Flatten, Dense\n",
        "\n",
        "# Build the CNN model\n",
        "model = Sequential()\n",
        "\n",
        "# Layer 1: Convolution + Max Pooling\n",
        "model.add(Conv2D(32, (3,3), activation='relu', input_shape=(100,100,1)))\n",
        "model.add(MaxPooling2D((2,2)))\n",
        "\n",
        "# Layer 2: Convolution + Max Pooling\n",
        "model.add(Conv2D(64, (3,3), activation='relu'))\n",
        "model.add(MaxPooling2D((2,2)))\n",
        "\n",
        "# Flatten the image to a vector\n",
        "model.add(Flatten())\n",
        "\n",
        "# Fully connected layer\n",
        "model.add(Dense(64, activation='relu'))\n",
        "\n",
        "# Output layer (1 neuron → yes or no)\n",
        "model.add(Dense(1, activation='sigmoid'))\n",
        "\n",
        "# Compile the model\n",
        "model.compile(optimizer='adam', loss='binary_crossentropy', metrics=['accuracy'])\n",
        "\n",
        "# Train the model\n",
        "history = model.fit(X_train, y_train, epochs=5, validation_split=0.1)\n",
        "\n",
        "model.save(\"brain_tumor_model.h5\")\n",
        "\n"
      ],
      "metadata": {
        "colab": {
          "base_uri": "https://localhost:8080/"
        },
        "id": "usQ0Ml8-INS-",
        "outputId": "a53d47bd-ef37-4b37-c17c-4becfefb096d"
      },
      "execution_count": null,
      "outputs": [
        {
          "output_type": "stream",
          "name": "stderr",
          "text": [
            "/usr/local/lib/python3.11/dist-packages/keras/src/layers/convolutional/base_conv.py:107: UserWarning: Do not pass an `input_shape`/`input_dim` argument to a layer. When using Sequential models, prefer using an `Input(shape)` object as the first layer in the model instead.\n",
            "  super().__init__(activity_regularizer=activity_regularizer, **kwargs)\n"
          ]
        },
        {
          "output_type": "stream",
          "name": "stdout",
          "text": [
            "Epoch 1/5\n",
            "\u001b[1m6/6\u001b[0m \u001b[32m━━━━━━━━━━━━━━━━━━━━\u001b[0m\u001b[37m\u001b[0m \u001b[1m5s\u001b[0m 410ms/step - accuracy: 0.5789 - loss: 0.6538 - val_accuracy: 0.7619 - val_loss: 0.5457\n",
            "Epoch 2/5\n",
            "\u001b[1m6/6\u001b[0m \u001b[32m━━━━━━━━━━━━━━━━━━━━\u001b[0m\u001b[37m\u001b[0m \u001b[1m5s\u001b[0m 433ms/step - accuracy: 0.7702 - loss: 0.5101 - val_accuracy: 0.6667 - val_loss: 0.4501\n",
            "Epoch 3/5\n",
            "\u001b[1m6/6\u001b[0m \u001b[32m━━━━━━━━━━━━━━━━━━━━\u001b[0m\u001b[37m\u001b[0m \u001b[1m3s\u001b[0m 486ms/step - accuracy: 0.8161 - loss: 0.4548 - val_accuracy: 0.7143 - val_loss: 0.6373\n",
            "Epoch 4/5\n",
            "\u001b[1m6/6\u001b[0m \u001b[32m━━━━━━━━━━━━━━━━━━━━\u001b[0m\u001b[37m\u001b[0m \u001b[1m2s\u001b[0m 349ms/step - accuracy: 0.8201 - loss: 0.4227 - val_accuracy: 0.8095 - val_loss: 0.3856\n",
            "Epoch 5/5\n",
            "\u001b[1m6/6\u001b[0m \u001b[32m━━━━━━━━━━━━━━━━━━━━\u001b[0m\u001b[37m\u001b[0m \u001b[1m2s\u001b[0m 341ms/step - accuracy: 0.8610 - loss: 0.3088 - val_accuracy: 0.8571 - val_loss: 0.3683\n"
          ]
        },
        {
          "output_type": "stream",
          "name": "stderr",
          "text": [
            "WARNING:absl:You are saving your model as an HDF5 file via `model.save()` or `keras.saving.save_model(model)`. This file format is considered legacy. We recommend using instead the native Keras format, e.g. `model.save('my_model.keras')` or `keras.saving.save_model(model, 'my_model.keras')`. \n"
          ]
        }
      ]
    },
    {
      "cell_type": "code",
      "source": [
        "# Evaluate the model on test data\n",
        "test_loss, test_accuracy = model.evaluate(X_test, y_test)\n",
        "\n",
        "print(f\"\\n Test Accuracy: {test_accuracy * 100:.2f}%\")\n"
      ],
      "metadata": {
        "colab": {
          "base_uri": "https://localhost:8080/"
        },
        "id": "Wc-QWo6BIk4V",
        "outputId": "667929b6-7daa-4e41-9d0e-5b6ba6e06750"
      },
      "execution_count": null,
      "outputs": [
        {
          "output_type": "stream",
          "name": "stdout",
          "text": [
            "\u001b[1m2/2\u001b[0m \u001b[32m━━━━━━━━━━━━━━━━━━━━\u001b[0m\u001b[37m\u001b[0m \u001b[1m0s\u001b[0m 78ms/step - accuracy: 0.8930 - loss: 0.2714\n",
            "\n",
            " Test Accuracy: 90.20%\n"
          ]
        }
      ]
    },
    {
      "cell_type": "code",
      "source": [
        "import cv2\n",
        "import numpy as np\n",
        "\n",
        "# Load the image\n",
        "image_path = \"/content/1.jpg\"\n",
        "img = cv2.imread(image_path, cv2.IMREAD_GRAYSCALE)\n",
        "\n",
        "# Resize and reshape it\n",
        "img_resized = cv2.resize(img, (100, 100))\n",
        "img_normalized = img_resized / 255.0\n",
        "img_reshaped = img_normalized.reshape(1, 100, 100, 1)\n",
        "\n",
        "# Predict\n",
        "prediction = model.predict(img_reshaped)\n",
        "\n",
        "# Show result\n",
        "if prediction[0][0] > 0.5:\n",
        "    print(\" Prediction: Tumor Detected\")\n",
        "else:\n",
        "    print(\" Prediction: No Tumor Detected\")\n"
      ],
      "metadata": {
        "colab": {
          "base_uri": "https://localhost:8080/"
        },
        "id": "z-FTgUM4JLWf",
        "outputId": "f7427659-4e03-4d22-f878-04ff9ab07242"
      },
      "execution_count": null,
      "outputs": [
        {
          "output_type": "stream",
          "name": "stdout",
          "text": [
            "\u001b[1m1/1\u001b[0m \u001b[32m━━━━━━━━━━━━━━━━━━━━\u001b[0m\u001b[37m\u001b[0m \u001b[1m0s\u001b[0m 104ms/step\n",
            " Prediction: Tumor Detected\n"
          ]
        }
      ]
    }
  ]
}